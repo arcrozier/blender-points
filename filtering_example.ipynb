{
 "cells": [
  {
   "cell_type": "code",
   "execution_count": 5,
   "metadata": {},
   "outputs": [],
   "source": [
    "import h5py\n",
    "import numpy as np\n",
    "import pandas as pd\n",
    "from matplotlib import pyplot as plt"
   ]
  },
  {
   "cell_type": "code",
   "execution_count": 6,
   "metadata": {},
   "outputs": [
    {
     "data": {
      "text/plain": [
       "<KeysViewHDF5 ['Level1_id_label', 'Level2_id_label', '__categories', '_index', 'bin_flat_index', 'clean_region_label', 'cluster_label', 'specimen_x', 'specimen_y', 'specimen_z']>"
      ]
     },
     "execution_count": 6,
     "metadata": {},
     "output_type": "execute_result"
    }
   ],
   "source": [
    "#file = '/allen/programs/celltypes/workgroups/rnaseqanalysis/lydian/mfish/mouse_3/registered/cells_for_visualization.h5'\n",
    "file = 'cells_for_visualization.h5'\n",
    "viz = h5py.File( file, 'r')\n",
    "v_obs = viz['obs']\n",
    "v_obs.keys()"
   ]
  },
  {
   "cell_type": "code",
   "execution_count": 4,
   "metadata": {},
   "outputs": [],
   "source": [
    "# filter for cells of a certain type\n",
    "ftype = 'Level1_id_label'\n",
    "fclass = '6 CNU GABA'\n",
    "\n",
    "fdf = pd.DataFrame(v_obs['__categories'][ftype], columns=['fclass'])\n",
    "fdf['findex'] = range(len(fdf))\n",
    "fdf.set_index('fclass', inplace=True)\n",
    "\n",
    "findex = fdf.loc[fclass,'findex']"
   ]
  },
  {
   "cell_type": "code",
   "execution_count": 4,
   "metadata": {},
   "outputs": [
    {
     "name": "stdout",
     "output_type": "stream",
     "text": [
      "291829\n"
     ]
    }
   ],
   "source": [
    "pred1 = (v_obs['mapped'][:] != 0)\n",
    "pred2 = (v_obs[ftype][:] == findex)\n",
    "pred = np.logical_and( pred1, pred2 )\n",
    "\n",
    "idx = np.where(pred)\n",
    "xx = v_obs['specimen_x'][:][idx]\n",
    "yy = v_obs['specimen_y'][:][idx]\n",
    "zz = v_obs['specimen_z'][:][idx]\n",
    "\n",
    "print(len(xx))"
   ]
  },
  {
   "cell_type": "code",
   "execution_count": 5,
   "metadata": {},
   "outputs": [
    {
     "data": {
      "text/plain": [
       "(array([ 3.20000005,  3.4000001 ,  3.5999999 ,  4.        ,  4.19999981,\n",
       "         4.4000001 ,  4.5999999 ,  4.80000019,  5.        ,  5.19999981,\n",
       "         5.4000001 ,  5.5999999 ,  5.80000019,  6.19999981,  6.4000001 ,\n",
       "         6.5999999 ,  6.80000019,  7.        ,  7.19999981,  7.5999999 ,\n",
       "         7.80000019,  8.        ,  8.19999981,  8.39999962,  8.60000038,\n",
       "         8.80000019,  9.        ,  9.19999981,  9.39999962,  9.60000038,\n",
       "        10.        , 10.19999981, 10.39999962, 10.60000038, 10.80000019,\n",
       "        11.        , 11.19999981, 11.39999962]),\n",
       " array([    2,     4,     1,    18,    16,    31,    36,    27,    51,\n",
       "           46,    59,    79,    79,   229,  2073,  3163,  4758,  4119,\n",
       "         5799,  7875,  9202, 15393, 16156, 17716, 19981, 21204, 32188,\n",
       "        29152, 37304, 30663, 23382,  8331,  2043,   313,   168,    75,\n",
       "           45,    48]))"
      ]
     },
     "execution_count": 5,
     "metadata": {},
     "output_type": "execute_result"
    }
   ],
   "source": [
    "zlist, zcounts  = np.unique(zz, return_counts = True )\n",
    "(zlist, zcounts)"
   ]
  },
  {
   "cell_type": "code",
   "execution_count": 6,
   "metadata": {},
   "outputs": [
    {
     "name": "stdout",
     "output_type": "stream",
     "text": [
      "9.199999809265137\n"
     ]
    },
    {
     "data": {
      "image/png": "[encoded data removed]",
      "text/plain": [
       "<Figure size 432x288 with 1 Axes>"
      ]
     },
     "metadata": {
      "needs_background": "light"
     },
     "output_type": "display_data"
    }
   ],
   "source": [
    "plotz = zlist[27]\n",
    "print(plotz)\n",
    "\n",
    "zidx = np.where( zz == plotz )\n",
    "plotx = xx[zidx]\n",
    "ploty = yy[zidx]\n",
    "\n",
    "plt.scatter( plotx, ploty )\n",
    "ax = plt.gca()\n",
    "ax.invert_yaxis()\n",
    "plt.show()\n"
   ]
  },
  {
   "cell_type": "code",
   "execution_count": 7,
   "metadata": {},
   "outputs": [],
   "source": [
    "viz.close()"
   ]
  },
  {
   "cell_type": "code",
   "execution_count": null,
   "metadata": {},
   "outputs": [],
   "source": []
  },
  {
   "cell_type": "code",
   "execution_count": null,
   "metadata": {},
   "outputs": [],
   "source": []
  }
 ],
 "metadata": {
  "kernelspec": {
   "display_name": "Python 3",
   "language": "python",
   "name": "python3"
  },
  "language_info": {
   "codemirror_mode": {
    "name": "ipython",
    "version": 3
   },
   "file_extension": ".py",
   "mimetype": "text/x-python",
   "name": "python",
   "nbconvert_exporter": "python",
   "pygments_lexer": "ipython3",
   "version": "3.8.5"
  }
 },
 "nbformat": 4,
 "nbformat_minor": 4
}
